{
 "cells": [
  {
   "cell_type": "markdown",
   "id": "b91c2ea8-546b-42bc-af4f-a7150bd8b9c3",
   "metadata": {},
   "source": [
    "- ## *import packages*"
   ]
  },
  {
   "cell_type": "code",
   "execution_count": 2,
   "id": "2c988715-8224-45f2-a743-4536099f78df",
   "metadata": {},
   "outputs": [],
   "source": [
    "import numpy as np\n",
    "import pandas as pd\n",
    "import sqlite3\n",
    "import seaborn as sns\n",
    "import matplotlib.pyplot as plt\n",
    "import plotly.express as px\n",
    "from sklearn.preprocessing import MinMaxScaler\n",
    "import emoji"
   ]
  },
  {
   "cell_type": "markdown",
   "id": "148a53cc-b5b9-4780-bc68-cc07aea9d474",
   "metadata": {},
   "source": [
    "- ## *check the package version*"
   ]
  },
  {
   "cell_type": "code",
   "execution_count": 4,
   "id": "af813e6c-a404-4cd7-b1f1-a471a34e5f78",
   "metadata": {},
   "outputs": [
    {
     "name": "stdout",
     "output_type": "stream",
     "text": [
      "Numpy:  1.26.4\n",
      "Pandas:  2.1.4\n"
     ]
    }
   ],
   "source": [
    "print('Numpy: ', np.__version__)\n",
    "print('Pandas: ', pd.__version__)"
   ]
  },
  {
   "cell_type": "markdown",
   "id": "45a1b368-ba9c-4061-829f-3c091c136479",
   "metadata": {},
   "source": [
    " # Manipulating the data to make it usable"
   ]
  },
  {
   "cell_type": "markdown",
   "id": "8cc05fb0-6f40-47d2-9390-8ded4b3e4d3b",
   "metadata": {},
   "source": [
    "***"
   ]
  },
  {
   "cell_type": "markdown",
   "id": "65e4550d-42a4-4bd3-b673-e28ffeabe7d8",
   "metadata": {},
   "source": [
    "##### All the preprocessing of data for Mini Project 1 is documented here"
   ]
  },
  {
   "cell_type": "markdown",
   "id": "446130d9-a417-41cf-a3ec-4eb0ba3d55f7",
   "metadata": {},
   "source": [
    "***"
   ]
  },
  {
   "cell_type": "markdown",
   "id": "c008404f-3c23-4709-9f33-d8c1a92a988a",
   "metadata": {},
   "source": [
    "- ### Wrangling\n",
    "    - - #### sourcing, loading, and precleaning the data so we can see what it really looks like\n",
    "    - -  #### fixing critical issues\n",
    "    - - #### understanding the essential characteristics of the data\n",
    "    - - #### applying preliminary transformations to confer context and meaning\n",
    "    - - #### implementing strategies for missing and invalid data"
   ]
  },
  {
   "cell_type": "markdown",
   "id": "5ebf157c-348f-47ac-a79d-d5fd4275d8e8",
   "metadata": {},
   "source": [
    "- ## munging\n",
    "    - - #### reshaping the data to prepare it for analysis "
   ]
  },
  {
   "cell_type": "markdown",
   "id": "c17aadc5-e917-4a3c-9e10-8bf58a0a0593",
   "metadata": {},
   "source": [
    "- ## Profiling and cleaning\n",
    "***"
   ]
  },
  {
   "cell_type": "markdown",
   "id": "1d33c9a5-f20e-4e5c-817a-ccaede12e507",
   "metadata": {},
   "source": [
    "- #### *In tidy data:*\n",
    "- ##### *1. Each variable forms a column.*\n",
    "- ##### *2. Each observation forms a row.*\n",
    "- ##### *3. Each type of observational unit forms a table.*"
   ]
  },
  {
   "cell_type": "markdown",
   "id": "f67b6628-9524-4422-97d5-68bf7547d4ba",
   "metadata": {},
   "source": [
    "#### *1. Load the \"watson healthcare\" file into a data frame*\n",
    "***"
   ]
  },
  {
   "cell_type": "markdown",
   "id": "bce6af44-24fa-4ca2-8f1b-065db7b3b303",
   "metadata": {},
   "source": [
    "- #### *Connect to SQLite database*"
   ]
  },
  {
   "cell_type": "code",
   "execution_count": 15,
   "id": "04b1807b-ec24-47df-a0ef-801f2305c16c",
   "metadata": {},
   "outputs": [],
   "source": [
    "conn = sqlite3.connect('healthcare.db')"
   ]
  },
  {
   "cell_type": "markdown",
   "id": "f0960a9f-12f8-4032-a900-4934ee70833a",
   "metadata": {},
   "source": [
    "- ## *Create a Data Frame using SQL*"
   ]
  },
  {
   "cell_type": "code",
   "execution_count": 17,
   "id": "b1ec30c6-6df8-48dc-ab39-1ad7835b9a53",
   "metadata": {},
   "outputs": [],
   "source": [
    "# assign data frame name to \"df\" and store it with observed data\n",
    "df = pd.read_csv(r'C:\\Users\\3sthe\\Documents\\MINI_PROJECT_1\\employee-attrition-for-healthcare\\watson_healthcare_modified.csv')\n",
    "\n",
    "# Write DataFrame to SQLite using connection 'conn'\n",
    "df.to_sql('healthcare', conn, if_exists='replace', index = False)\n",
    "\n",
    "# Query data from SQLite table\n",
    "query = \"\"\"\n",
    "SELECT *\n",
    "FROM healthcare;\n",
    "\"\"\"\n",
    "# assign new data frame name to \"df_from_sql\" and use the query to load df table into df_from_sql\n",
    "df_from_sql = pd.read_sql_query(query, conn)"
   ]
  },
  {
   "cell_type": "markdown",
   "id": "bab5af18-c27b-4fb9-b855-9470198f1718",
   "metadata": {},
   "source": [
    "- ## *Check that file was loaded correctly*"
   ]
  },
  {
   "cell_type": "code",
   "execution_count": 19,
   "id": "a97e5cf3-b80e-4e69-8263-dfd3553b29a7",
   "metadata": {},
   "outputs": [
    {
     "data": {
      "text/plain": [
       "EmployeeID                        1313919\n",
       "Age                                    41\n",
       "Attrition                              No\n",
       "BusinessTravel              Travel_Rarely\n",
       "DailyRate                            1102\n",
       "Department                     Cardiology\n",
       "DistanceFromHome                        1\n",
       "Education                               2\n",
       "EducationField              Life Sciences\n",
       "EmployeeCount                           1\n",
       "EnvironmentSatisfaction                 2\n",
       "Gender                             Female\n",
       "HourlyRate                             94\n",
       "JobInvolvement                          3\n",
       "JobLevel                                2\n",
       "JobRole                             Nurse\n",
       "JobSatisfaction                         4\n",
       "MaritalStatus                      Single\n",
       "MonthlyIncome                        5993\n",
       "MonthlyRate                         19479\n",
       "NumCompaniesWorked                      8\n",
       "Over18                                  Y\n",
       "OverTime                              Yes\n",
       "PercentSalaryHike                      11\n",
       "PerformanceRating                       3\n",
       "RelationshipSatisfaction                1\n",
       "StandardHours                          80\n",
       "Shift                                   0\n",
       "TotalWorkingYears                       8\n",
       "TrainingTimesLastYear                   0\n",
       "WorkLifeBalance                         1\n",
       "YearsAtCompany                          6\n",
       "YearsInCurrentRole                      4\n",
       "YearsSinceLastPromotion                 0\n",
       "YearsWithCurrManager                    5\n",
       "Name: 0, dtype: object"
      ]
     },
     "execution_count": 19,
     "metadata": {},
     "output_type": "execute_result"
    }
   ],
   "source": [
    "# observe the first column\n",
    "df_from_sql.iloc[0]"
   ]
  },
  {
   "cell_type": "markdown",
   "id": "95a51e1d-b06f-4173-9be0-5dc2ba5f821c",
   "metadata": {},
   "source": [
    "***\n",
    "## *Insights*\n",
    "- #### *Discussion about which columns are meaningless*\n",
    "    - ##### *REASONS FOR DROPPING COLUMNS:*\n",
    "    - ##### *EmployeeID*\n",
    "        - ###### percieved as meaningless\n",
    "    - ##### *Age; Gender; DistanceFromHome; MaritalStatus; OverTime; Shift*\n",
    "        - ###### collectively insignificant \n",
    "    - ##### *BusinessTravel; DailyRate; HourlyRate; MonthlyRate; PercentSalaryHike*\n",
    "        - ###### interchangeable and generalised by MonthlyIncome\n",
    "    - ##### *EnvironmentSatisfaction; JobInvolvement; JobLevel; JobSatisfaction; RelationshipSatisfaction; WorkLifeBalance*\n",
    "        - ###### interchangeable and generalised by PerformanceRating\n",
    "    - ##### *YearsSinceLastPromotion; YearsWithCurrManager*\n",
    "        - ###### interchangeable and generalised by YearsAtCompany\n",
    "    - ##### *EmployeeCount; Over18; StandardHours*\n",
    "        - ###### single value for every observation\n",
    "***"
   ]
  },
  {
   "cell_type": "markdown",
   "id": "8912cab9-cea5-488e-a503-ecae20c0256c",
   "metadata": {},
   "source": [
    "#### *2. drop meaningless columns and create a filtered data frame*\n",
    "***"
   ]
  },
  {
   "cell_type": "code",
   "execution_count": 22,
   "id": "5450f14c-bf0a-4ced-b62c-2f9753a40d27",
   "metadata": {},
   "outputs": [
    {
     "name": "stdout",
     "output_type": "stream",
     "text": [
      "     Attrition  Department  Education    EducationField    JobRole  \\\n",
      "0           No  Cardiology          2     Life Sciences      Nurse   \n",
      "1           No   Maternity          1     Life Sciences      Other   \n",
      "2          Yes   Maternity          2             Other      Nurse   \n",
      "3           No   Maternity          4     Life Sciences      Other   \n",
      "4           No   Maternity          1           Medical      Nurse   \n",
      "...        ...         ...        ...               ...        ...   \n",
      "1671       Yes   Neurology          3  Technical Degree      Nurse   \n",
      "1672        No  Cardiology          3         Marketing      Nurse   \n",
      "1673        No   Maternity          3     Life Sciences      Other   \n",
      "1674        No   Neurology          1     Life Sciences  Therapist   \n",
      "1675        No  Cardiology          2           Medical      Nurse   \n",
      "\n",
      "      MonthlyIncome  NumCompaniesWorked  PerformanceRating  TotalWorkingYears  \\\n",
      "0              5993                   8                  3                  8   \n",
      "1              5130                   1                  4                 10   \n",
      "2              2090                   6                  3                  7   \n",
      "3              2909                   1                  3                  8   \n",
      "4              3468                   9                  3                  6   \n",
      "...             ...                 ...                ...                ...   \n",
      "1671           2340                   1                  3                  1   \n",
      "1672           9071                   2                  3                 15   \n",
      "1673           2836                   1                  3                  1   \n",
      "1674          12742                   1                  3                 21   \n",
      "1675           6500                   0                  3                  9   \n",
      "\n",
      "      TrainingTimesLastYear  YearsAtCompany  YearsInCurrentRole  \n",
      "0                         0               6                   4  \n",
      "1                         3              10                   7  \n",
      "2                         3               0                   0  \n",
      "3                         3               8                   7  \n",
      "4                         3               2                   2  \n",
      "...                     ...             ...                 ...  \n",
      "1671                      3               1                   0  \n",
      "1672                      3               3                   2  \n",
      "1673                      0               1                   0  \n",
      "1674                      3              21                   6  \n",
      "1675                      5               8                   7  \n",
      "\n",
      "[1676 rows x 12 columns]\n"
     ]
    }
   ],
   "source": [
    "# dropping multiple columns from a DataFrame\n",
    "columns_to_drop = ['EmployeeID', 'Age', 'Gender', 'DistanceFromHome', 'MaritalStatus', \n",
    "                   'OverTime', 'Shift', 'BusinessTravel', 'DailyRate', 'HourlyRate', \n",
    "                   'MonthlyRate', 'PercentSalaryHike', 'EnvironmentSatisfaction', \n",
    "                   'JobInvolvement', 'JobLevel', 'JobSatisfaction', \n",
    "                   'RelationshipSatisfaction', 'WorkLifeBalance', \n",
    "                   'YearsSinceLastPromotion', 'YearsWithCurrManager', \n",
    "                   'EmployeeCount', 'Over18', 'StandardHours']\n",
    "\n",
    "df_main = df_from_sql.drop(columns=columns_to_drop)\n",
    "# print the result\n",
    "print(df_main)"
   ]
  },
  {
   "cell_type": "markdown",
   "id": "db5d3bb7-40f5-4a54-85a2-03b3eddbd002",
   "metadata": {},
   "source": [
    "- ## *Check that columns are loaded correctly*"
   ]
  },
  {
   "cell_type": "code",
   "execution_count": 24,
   "id": "08acee70-90d0-42ab-a394-4cbef26404d3",
   "metadata": {},
   "outputs": [
    {
     "name": "stdout",
     "output_type": "stream",
     "text": [
      "  Attrition  Department  Education EducationField JobRole  MonthlyIncome  \\\n",
      "0        No  Cardiology          2  Life Sciences   Nurse           5993   \n",
      "1        No   Maternity          1  Life Sciences   Other           5130   \n",
      "2       Yes   Maternity          2          Other   Nurse           2090   \n",
      "3        No   Maternity          4  Life Sciences   Other           2909   \n",
      "4        No   Maternity          1        Medical   Nurse           3468   \n",
      "\n",
      "   NumCompaniesWorked  PerformanceRating  TotalWorkingYears  \\\n",
      "0                   8                  3                  8   \n",
      "1                   1                  4                 10   \n",
      "2                   6                  3                  7   \n",
      "3                   1                  3                  8   \n",
      "4                   9                  3                  6   \n",
      "\n",
      "   TrainingTimesLastYear  YearsAtCompany  YearsInCurrentRole  \n",
      "0                      0               6                   4  \n",
      "1                      3              10                   7  \n",
      "2                      3               0                   0  \n",
      "3                      3               8                   7  \n",
      "4                      3               2                   2  \n"
     ]
    }
   ],
   "source": [
    "## print the first 5 rows of obervations \n",
    "print(df_main.head(5))"
   ]
  },
  {
   "cell_type": "markdown",
   "id": "6a0fa148-4f56-464f-babd-56f7307dbab0",
   "metadata": {},
   "source": [
    "***\n",
    "#### *3. observe each columns' unique values*\n",
    "***\n",
    "#### Summarising Qualitative Data\n",
    "## *Insights*\n",
    "- #### *Discussion about which columns to be observed*\n",
    "    - ##### *REASONS FOR SKIPPING COLUMNS:*\n",
    "    - ##### *Attrition*\n",
    "        - ###### we know it has plural values 'Yes' and 'No'\n",
    "    - ##### *Education; MonthlyIncome; PerformanceRating; TrainingTimesLastYear*\n",
    "        - ###### continuous variables which would be useful directly for EDA\n",
    "    - ##### *NumCompaniesWorked; TotalWorkingYears; YearsAtCompany; YearsInCurrentRole*\n",
    "        - ###### continuous variables which will be useful in a time series\n",
    "***"
   ]
  },
  {
   "cell_type": "code",
   "execution_count": 26,
   "id": "6f4b5a08-1918-4a19-a65b-578e174b1591",
   "metadata": {},
   "outputs": [
    {
     "name": "stdout",
     "output_type": "stream",
     "text": [
      "Department\n",
      "Maternity     796\n",
      "Cardiology    531\n",
      "Neurology     349\n",
      "Name: count, dtype: int64\n"
     ]
    }
   ],
   "source": [
    "# Printing the value count of each Department \n",
    "print(df_from_sql['Department'].value_counts())"
   ]
  },
  {
   "cell_type": "code",
   "execution_count": 27,
   "id": "61e4550f-ba01-4595-9bb3-8b730097aa53",
   "metadata": {},
   "outputs": [
    {
     "name": "stdout",
     "output_type": "stream",
     "text": [
      "EducationField\n",
      "Life Sciences       697\n",
      "Medical             524\n",
      "Marketing           189\n",
      "Technical Degree    149\n",
      "Other                88\n",
      "Human Resources      29\n",
      "Name: count, dtype: int64\n"
     ]
    }
   ],
   "source": [
    "# Printing the value count of each EducationField \n",
    "print(df_from_sql['EducationField'].value_counts())"
   ]
  },
  {
   "cell_type": "code",
   "execution_count": 28,
   "id": "b2281c10-fb0c-45f9-9512-bb25fe25600d",
   "metadata": {},
   "outputs": [
    {
     "name": "stdout",
     "output_type": "stream",
     "text": [
      "JobRole\n",
      "Nurse             822\n",
      "Other             534\n",
      "Therapist         189\n",
      "Administrative    115\n",
      "Admin              16\n",
      "Name: count, dtype: int64\n"
     ]
    }
   ],
   "source": [
    "# Printing the value count of each JobRole\n",
    "print(df_from_sql['JobRole'].value_counts())"
   ]
  },
  {
   "cell_type": "code",
   "execution_count": 29,
   "id": "831e4aa3-85e2-4a25-94e3-c7139e7e252a",
   "metadata": {},
   "outputs": [
    {
     "name": "stdout",
     "output_type": "stream",
     "text": [
      "❗ ❗ ❗\n"
     ]
    }
   ],
   "source": [
    "print(emoji.emojize(\"\\U00002757\"), emoji.emojize(\"\\U00002757\"), emoji.emojize(\"\\U00002757\"))"
   ]
  },
  {
   "cell_type": "markdown",
   "id": "1bb288d6-ab95-4029-82d5-2b36b6086d62",
   "metadata": {},
   "source": [
    "##### *'Admin' and 'Administrative' are alike*"
   ]
  },
  {
   "cell_type": "code",
   "execution_count": 31,
   "id": "fcaaa962-cd76-498f-b470-fc73743ba1b4",
   "metadata": {},
   "outputs": [
    {
     "name": "stdout",
     "output_type": "stream",
     "text": [
      "❗ ❗ ❗\n"
     ]
    }
   ],
   "source": [
    "print(emoji.emojize(\"\\U00002757\"), emoji.emojize(\"\\U00002757\"), emoji.emojize(\"\\U00002757\"))"
   ]
  },
  {
   "cell_type": "code",
   "execution_count": 32,
   "id": "87b118aa-8773-4e29-8e96-cb136de9622f",
   "metadata": {},
   "outputs": [
    {
     "name": "stdout",
     "output_type": "stream",
     "text": [
      "Number of Administrative employees: 115\n",
      "Number of Admin employees: 16\n"
     ]
    }
   ],
   "source": [
    "# finding the Administrative values in the original df with a condition 'con'\n",
    "con = (df_from_sql['JobRole']== 'Administrative')\n",
    "# observing the total number of Administrative values to be added to the Admin column\n",
    "print(\"Number of Administrative employees:\", con.sum())\n",
    "\n",
    "# finding the Admin values in the original df with a condition 'con'\n",
    "con = (df_from_sql['JobRole']== 'Admin')\n",
    "# observing the total number of Admin values\n",
    "print(\"Number of Admin employees:\", con.sum())"
   ]
  },
  {
   "cell_type": "code",
   "execution_count": 33,
   "id": "900b8cae-a4ea-49ce-b7b5-84a44a0c8ff5",
   "metadata": {},
   "outputs": [
    {
     "name": "stdout",
     "output_type": "stream",
     "text": [
      "JobRole\n",
      "Nurse        822\n",
      "Other        534\n",
      "Therapist    189\n",
      "Admin        131\n",
      "Name: count, dtype: int64\n"
     ]
    }
   ],
   "source": [
    "# Define a mapping dictionary for merging categories\n",
    "merge_map = {\n",
    "    'Administrative': 'Admin'\n",
    "}\n",
    "\n",
    "# Use replace method with the mapping dictionary\n",
    "df_main['JobRole'] = df_main['JobRole'].replace(merge_map)\n",
    "print(df_main['JobRole'].value_counts())"
   ]
  },
  {
   "cell_type": "markdown",
   "id": "1d2d2bab-1749-416d-88b1-9755feadf1ca",
   "metadata": {},
   "source": [
    "***\n",
    "##### *Qualitative variables are now ready for EDA*\n",
    "***"
   ]
  },
  {
   "cell_type": "markdown",
   "id": "206ac44e-0a98-422c-b369-167300e04031",
   "metadata": {},
   "source": [
    "***\n",
    "#### *4. observe each columns' description*\n",
    "***\n",
    "#### Summarising Quantitative Data\n",
    "## *Insights*\n",
    "- #### *Discussion about which columns to be observed*\n",
    "    - ##### *Education*\n",
    "        - #### Education refers to Level of Education where '1' = Level 1 Diploma, '5' = Foundation Degree/Higher Level Diploma\n",
    "    - ##### *TrainingTimesLastYear*\n",
    "        - #### TrainingTimesLastYear refers to Training Sessions Last Year i.e '1' training session is all training completed within a particular day \n",
    "    - ##### *MonthlyIncome; PerformanceRating;*\n",
    "        - ###### continuous variables which would be useful directly for EDA\n",
    "    - ##### *NumCompaniesWorked; TotalWorkingYears; YearsAtCompany; YearsInCurrentRole*\n",
    "        - ###### continuous variables which will be useful in a time series\n",
    "***"
   ]
  },
  {
   "cell_type": "code",
   "execution_count": 36,
   "id": "e2604c53-00b4-4245-8907-90aa580f076b",
   "metadata": {},
   "outputs": [
    {
     "name": "stdout",
     "output_type": "stream",
     "text": [
      "❗ ❗ ❗\n"
     ]
    }
   ],
   "source": [
    "print(emoji.emojize(\"\\U00002757\"), emoji.emojize(\"\\U00002757\"), emoji.emojize(\"\\U00002757\"))"
   ]
  },
  {
   "cell_type": "markdown",
   "id": "058db8e1-e8cf-41d0-98eb-95a6f3f2f113",
   "metadata": {},
   "source": [
    "- #### *Change Education and TrainingTimesLastYear column names to more meaningul names*\n",
    "    - ##### Education == 'LevelOfEducation'\n",
    "    - ##### TrainingTimesLastYear == 'TrainingSessionsLastYear'"
   ]
  },
  {
   "cell_type": "code",
   "execution_count": 38,
   "id": "0aa49588-1b2c-4be9-bcbe-8c21eeef3841",
   "metadata": {},
   "outputs": [
    {
     "name": "stdout",
     "output_type": "stream",
     "text": [
      "❗ ❗ ❗\n"
     ]
    }
   ],
   "source": [
    "print(emoji.emojize(\"\\U00002757\"), emoji.emojize(\"\\U00002757\"), emoji.emojize(\"\\U00002757\"))"
   ]
  },
  {
   "cell_type": "code",
   "execution_count": 39,
   "id": "0738c6d3-4b98-4787-aa26-af870a4d12e9",
   "metadata": {},
   "outputs": [
    {
     "name": "stdout",
     "output_type": "stream",
     "text": [
      "\n",
      "DataFrame after renaming columns:\n",
      "     Attrition  Department  LevelOfEducation    EducationField    JobRole  \\\n",
      "0           No  Cardiology                 2     Life Sciences      Nurse   \n",
      "1           No   Maternity                 1     Life Sciences      Other   \n",
      "2          Yes   Maternity                 2             Other      Nurse   \n",
      "3           No   Maternity                 4     Life Sciences      Other   \n",
      "4           No   Maternity                 1           Medical      Nurse   \n",
      "...        ...         ...               ...               ...        ...   \n",
      "1671       Yes   Neurology                 3  Technical Degree      Nurse   \n",
      "1672        No  Cardiology                 3         Marketing      Nurse   \n",
      "1673        No   Maternity                 3     Life Sciences      Other   \n",
      "1674        No   Neurology                 1     Life Sciences  Therapist   \n",
      "1675        No  Cardiology                 2           Medical      Nurse   \n",
      "\n",
      "      MonthlyIncome  NumCompaniesWorked  PerformanceRating  TotalWorkingYears  \\\n",
      "0              5993                   8                  3                  8   \n",
      "1              5130                   1                  4                 10   \n",
      "2              2090                   6                  3                  7   \n",
      "3              2909                   1                  3                  8   \n",
      "4              3468                   9                  3                  6   \n",
      "...             ...                 ...                ...                ...   \n",
      "1671           2340                   1                  3                  1   \n",
      "1672           9071                   2                  3                 15   \n",
      "1673           2836                   1                  3                  1   \n",
      "1674          12742                   1                  3                 21   \n",
      "1675           6500                   0                  3                  9   \n",
      "\n",
      "      DaysofTrainingLastYear  YearsAtCompany  YearsInCurrentRole  \n",
      "0                          0               6                   4  \n",
      "1                          3              10                   7  \n",
      "2                          3               0                   0  \n",
      "3                          3               8                   7  \n",
      "4                          3               2                   2  \n",
      "...                      ...             ...                 ...  \n",
      "1671                       3               1                   0  \n",
      "1672                       3               3                   2  \n",
      "1673                       0               1                   0  \n",
      "1674                       3              21                   6  \n",
      "1675                       5               8                   7  \n",
      "\n",
      "[1676 rows x 12 columns]\n"
     ]
    }
   ],
   "source": [
    "# Renaming columns\n",
    "df_main.rename(columns={'Education': 'LevelOfEducation', 'TrainingTimesLastYear': 'DaysofTrainingLastYear'}, inplace=True)\n",
    "\n",
    "# Observe the data frame\n",
    "print(\"\\nDataFrame after renaming columns:\")\n",
    "print(df_main)"
   ]
  },
  {
   "cell_type": "markdown",
   "id": "a3645ca1-be89-4ab8-a22e-36bf321b3cb3",
   "metadata": {},
   "source": [
    "***\n",
    "##### *Quantitative variables are now ready for EDA*\n",
    "***"
   ]
  },
  {
   "cell_type": "markdown",
   "id": "f7f7d22c-975e-4297-bd07-09e94e9163a8",
   "metadata": {},
   "source": [
    "***\n",
    "#### *5. Checking for duplicate values*\n",
    "***"
   ]
  },
  {
   "cell_type": "code",
   "execution_count": 42,
   "id": "e0bf85b5-d599-4885-8e67-4fd12de82745",
   "metadata": {},
   "outputs": [
    {
     "name": "stdout",
     "output_type": "stream",
     "text": [
      "There are duplicate values in the DataFrame.\n"
     ]
    }
   ],
   "source": [
    "# Check for any duplicates in the entire DataFrame using duplicated() method which iterates over the rows\n",
    "if df_main.duplicated().any():\n",
    "    print(\"There are duplicate values in the DataFrame.\")\n",
    "else:\n",
    "    print(\"There are no duplicate values in the DataFrame.\")"
   ]
  },
  {
   "cell_type": "code",
   "execution_count": 43,
   "id": "baa3ba4a-44ed-495b-8bbc-15e6abe55404",
   "metadata": {},
   "outputs": [
    {
     "name": "stdout",
     "output_type": "stream",
     "text": [
      "❗ ❗ ❗\n"
     ]
    }
   ],
   "source": [
    "print(emoji.emojize(\"\\U00002757\"), emoji.emojize(\"\\U00002757\"), emoji.emojize(\"\\U00002757\"))"
   ]
  },
  {
   "cell_type": "markdown",
   "id": "cde8533f-5537-4b41-8999-771aee3caf9c",
   "metadata": {},
   "source": [
    "#### Find out if we can ignore the duplicate values claim"
   ]
  },
  {
   "cell_type": "code",
   "execution_count": 45,
   "id": "f7c48ba6-5e5a-46e9-80a6-14c86841fa7e",
   "metadata": {},
   "outputs": [
    {
     "name": "stdout",
     "output_type": "stream",
     "text": [
      "❗ ❗ ❗\n"
     ]
    }
   ],
   "source": [
    "print(emoji.emojize(\"\\U00002757\"), emoji.emojize(\"\\U00002757\"), emoji.emojize(\"\\U00002757\"))"
   ]
  },
  {
   "cell_type": "code",
   "execution_count": 46,
   "id": "e67691a8-80d0-479f-b79f-0d802fe84ece",
   "metadata": {},
   "outputs": [
    {
     "name": "stdout",
     "output_type": "stream",
     "text": [
      "\n",
      "Duplicate Rows:\n",
      "     Attrition  Department  LevelOfEducation    EducationField    JobRole  \\\n",
      "1467        No  Cardiology                 4     Life Sciences      Admin   \n",
      "1475        No  Cardiology                 4  Technical Degree      Nurse   \n",
      "1477        No   Maternity                 1           Medical  Therapist   \n",
      "1478        No   Neurology                 3   Human Resources      Admin   \n",
      "1481        No  Cardiology                 2         Marketing      Nurse   \n",
      "...        ...         ...               ...               ...        ...   \n",
      "1658       Yes  Cardiology                 3           Medical      Other   \n",
      "1659       Yes  Cardiology                 2           Medical      Nurse   \n",
      "1660       Yes  Cardiology                 3     Life Sciences      Other   \n",
      "1662       Yes   Neurology                 4     Life Sciences      Other   \n",
      "1664       Yes  Cardiology                 4           Medical      Nurse   \n",
      "\n",
      "      MonthlyIncome  NumCompaniesWorked  PerformanceRating  TotalWorkingYears  \\\n",
      "1467          18041                   0                  3                 21   \n",
      "1475           5079                   4                  3                 12   \n",
      "1477           4377                   1                  3                  5   \n",
      "1478          19189                   1                  3                 22   \n",
      "1481           5677                   3                  3                 15   \n",
      "...             ...                 ...                ...                ...   \n",
      "1658           2800                   6                  3                  5   \n",
      "1659           4969                   8                  3                  7   \n",
      "1660           2302                   1                  3                  3   \n",
      "1662           2741                   0                  3                  8   \n",
      "1664           4599                   0                  4                 16   \n",
      "\n",
      "      DaysofTrainingLastYear  YearsAtCompany  YearsInCurrentRole  \n",
      "1467                       2              20                  15  \n",
      "1475                       3               7                   7  \n",
      "1477                       6               4                   2  \n",
      "1478                       3              22                   7  \n",
      "1481                       4              11                   8  \n",
      "...                      ...             ...                 ...  \n",
      "1658                       3               3                   2  \n",
      "1659                       6               2                   2  \n",
      "1660                       2               3                   2  \n",
      "1662                       2               7                   7  \n",
      "1664                       2              15                   9  \n",
      "\n",
      "[64 rows x 12 columns]\n"
     ]
    }
   ],
   "source": [
    "# Finding duplicate rows\n",
    "duplicate_rows = df_main[df_main.duplicated()]\n",
    "\n",
    "# check out the rows\n",
    "print(\"\\nDuplicate Rows:\")\n",
    "print(duplicate_rows)"
   ]
  },
  {
   "cell_type": "markdown",
   "id": "71616918-e2a4-451c-a12e-fcf4e2e4b52e",
   "metadata": {},
   "source": [
    "#### Duplicate values claim ignored as the check revealed duplicate values within columns and no row duplication..."
   ]
  },
  {
   "cell_type": "markdown",
   "id": "71710afa-943f-44df-90f0-0421d2d3e692",
   "metadata": {},
   "source": [
    "***\n",
    "#### *6. Checking for missing values*\n",
    "*** "
   ]
  },
  {
   "cell_type": "code",
   "execution_count": 49,
   "id": "7c1a83ff-c16d-4130-9d0e-9a0f45c5dd08",
   "metadata": {},
   "outputs": [
    {
     "data": {
      "text/plain": [
       "Index([], dtype='object')"
      ]
     },
     "execution_count": 49,
     "metadata": {},
     "output_type": "execute_result"
    }
   ],
   "source": [
    "# using function isnull() to find any null values in the observed data\n",
    "df_main.columns[df_main.isnull().any()]"
   ]
  },
  {
   "cell_type": "code",
   "execution_count": 50,
   "id": "70ec29e9-25ee-417b-a658-1c2e70877dbe",
   "metadata": {},
   "outputs": [
    {
     "data": {
      "text/html": [
       "<div>\n",
       "<style scoped>\n",
       "    .dataframe tbody tr th:only-of-type {\n",
       "        vertical-align: middle;\n",
       "    }\n",
       "\n",
       "    .dataframe tbody tr th {\n",
       "        vertical-align: top;\n",
       "    }\n",
       "\n",
       "    .dataframe thead th {\n",
       "        text-align: right;\n",
       "    }\n",
       "</style>\n",
       "<table border=\"1\" class=\"dataframe\">\n",
       "  <thead>\n",
       "    <tr style=\"text-align: right;\">\n",
       "      <th></th>\n",
       "      <th>Attrition</th>\n",
       "      <th>Department</th>\n",
       "      <th>LevelOfEducation</th>\n",
       "      <th>EducationField</th>\n",
       "      <th>JobRole</th>\n",
       "      <th>MonthlyIncome</th>\n",
       "      <th>NumCompaniesWorked</th>\n",
       "      <th>PerformanceRating</th>\n",
       "      <th>TotalWorkingYears</th>\n",
       "      <th>DaysofTrainingLastYear</th>\n",
       "      <th>YearsAtCompany</th>\n",
       "      <th>YearsInCurrentRole</th>\n",
       "    </tr>\n",
       "  </thead>\n",
       "  <tbody>\n",
       "    <tr>\n",
       "      <th>0</th>\n",
       "      <td>False</td>\n",
       "      <td>False</td>\n",
       "      <td>False</td>\n",
       "      <td>False</td>\n",
       "      <td>False</td>\n",
       "      <td>False</td>\n",
       "      <td>False</td>\n",
       "      <td>False</td>\n",
       "      <td>False</td>\n",
       "      <td>False</td>\n",
       "      <td>False</td>\n",
       "      <td>False</td>\n",
       "    </tr>\n",
       "    <tr>\n",
       "      <th>1</th>\n",
       "      <td>False</td>\n",
       "      <td>False</td>\n",
       "      <td>False</td>\n",
       "      <td>False</td>\n",
       "      <td>False</td>\n",
       "      <td>False</td>\n",
       "      <td>False</td>\n",
       "      <td>False</td>\n",
       "      <td>False</td>\n",
       "      <td>False</td>\n",
       "      <td>False</td>\n",
       "      <td>False</td>\n",
       "    </tr>\n",
       "    <tr>\n",
       "      <th>2</th>\n",
       "      <td>False</td>\n",
       "      <td>False</td>\n",
       "      <td>False</td>\n",
       "      <td>False</td>\n",
       "      <td>False</td>\n",
       "      <td>False</td>\n",
       "      <td>False</td>\n",
       "      <td>False</td>\n",
       "      <td>False</td>\n",
       "      <td>False</td>\n",
       "      <td>False</td>\n",
       "      <td>False</td>\n",
       "    </tr>\n",
       "    <tr>\n",
       "      <th>3</th>\n",
       "      <td>False</td>\n",
       "      <td>False</td>\n",
       "      <td>False</td>\n",
       "      <td>False</td>\n",
       "      <td>False</td>\n",
       "      <td>False</td>\n",
       "      <td>False</td>\n",
       "      <td>False</td>\n",
       "      <td>False</td>\n",
       "      <td>False</td>\n",
       "      <td>False</td>\n",
       "      <td>False</td>\n",
       "    </tr>\n",
       "    <tr>\n",
       "      <th>4</th>\n",
       "      <td>False</td>\n",
       "      <td>False</td>\n",
       "      <td>False</td>\n",
       "      <td>False</td>\n",
       "      <td>False</td>\n",
       "      <td>False</td>\n",
       "      <td>False</td>\n",
       "      <td>False</td>\n",
       "      <td>False</td>\n",
       "      <td>False</td>\n",
       "      <td>False</td>\n",
       "      <td>False</td>\n",
       "    </tr>\n",
       "    <tr>\n",
       "      <th>...</th>\n",
       "      <td>...</td>\n",
       "      <td>...</td>\n",
       "      <td>...</td>\n",
       "      <td>...</td>\n",
       "      <td>...</td>\n",
       "      <td>...</td>\n",
       "      <td>...</td>\n",
       "      <td>...</td>\n",
       "      <td>...</td>\n",
       "      <td>...</td>\n",
       "      <td>...</td>\n",
       "      <td>...</td>\n",
       "    </tr>\n",
       "    <tr>\n",
       "      <th>1671</th>\n",
       "      <td>False</td>\n",
       "      <td>False</td>\n",
       "      <td>False</td>\n",
       "      <td>False</td>\n",
       "      <td>False</td>\n",
       "      <td>False</td>\n",
       "      <td>False</td>\n",
       "      <td>False</td>\n",
       "      <td>False</td>\n",
       "      <td>False</td>\n",
       "      <td>False</td>\n",
       "      <td>False</td>\n",
       "    </tr>\n",
       "    <tr>\n",
       "      <th>1672</th>\n",
       "      <td>False</td>\n",
       "      <td>False</td>\n",
       "      <td>False</td>\n",
       "      <td>False</td>\n",
       "      <td>False</td>\n",
       "      <td>False</td>\n",
       "      <td>False</td>\n",
       "      <td>False</td>\n",
       "      <td>False</td>\n",
       "      <td>False</td>\n",
       "      <td>False</td>\n",
       "      <td>False</td>\n",
       "    </tr>\n",
       "    <tr>\n",
       "      <th>1673</th>\n",
       "      <td>False</td>\n",
       "      <td>False</td>\n",
       "      <td>False</td>\n",
       "      <td>False</td>\n",
       "      <td>False</td>\n",
       "      <td>False</td>\n",
       "      <td>False</td>\n",
       "      <td>False</td>\n",
       "      <td>False</td>\n",
       "      <td>False</td>\n",
       "      <td>False</td>\n",
       "      <td>False</td>\n",
       "    </tr>\n",
       "    <tr>\n",
       "      <th>1674</th>\n",
       "      <td>False</td>\n",
       "      <td>False</td>\n",
       "      <td>False</td>\n",
       "      <td>False</td>\n",
       "      <td>False</td>\n",
       "      <td>False</td>\n",
       "      <td>False</td>\n",
       "      <td>False</td>\n",
       "      <td>False</td>\n",
       "      <td>False</td>\n",
       "      <td>False</td>\n",
       "      <td>False</td>\n",
       "    </tr>\n",
       "    <tr>\n",
       "      <th>1675</th>\n",
       "      <td>False</td>\n",
       "      <td>False</td>\n",
       "      <td>False</td>\n",
       "      <td>False</td>\n",
       "      <td>False</td>\n",
       "      <td>False</td>\n",
       "      <td>False</td>\n",
       "      <td>False</td>\n",
       "      <td>False</td>\n",
       "      <td>False</td>\n",
       "      <td>False</td>\n",
       "      <td>False</td>\n",
       "    </tr>\n",
       "  </tbody>\n",
       "</table>\n",
       "<p>1676 rows × 12 columns</p>\n",
       "</div>"
      ],
      "text/plain": [
       "      Attrition  Department  LevelOfEducation  EducationField  JobRole  \\\n",
       "0         False       False             False           False    False   \n",
       "1         False       False             False           False    False   \n",
       "2         False       False             False           False    False   \n",
       "3         False       False             False           False    False   \n",
       "4         False       False             False           False    False   \n",
       "...         ...         ...               ...             ...      ...   \n",
       "1671      False       False             False           False    False   \n",
       "1672      False       False             False           False    False   \n",
       "1673      False       False             False           False    False   \n",
       "1674      False       False             False           False    False   \n",
       "1675      False       False             False           False    False   \n",
       "\n",
       "      MonthlyIncome  NumCompaniesWorked  PerformanceRating  TotalWorkingYears  \\\n",
       "0             False               False              False              False   \n",
       "1             False               False              False              False   \n",
       "2             False               False              False              False   \n",
       "3             False               False              False              False   \n",
       "4             False               False              False              False   \n",
       "...             ...                 ...                ...                ...   \n",
       "1671          False               False              False              False   \n",
       "1672          False               False              False              False   \n",
       "1673          False               False              False              False   \n",
       "1674          False               False              False              False   \n",
       "1675          False               False              False              False   \n",
       "\n",
       "      DaysofTrainingLastYear  YearsAtCompany  YearsInCurrentRole  \n",
       "0                      False           False               False  \n",
       "1                      False           False               False  \n",
       "2                      False           False               False  \n",
       "3                      False           False               False  \n",
       "4                      False           False               False  \n",
       "...                      ...             ...                 ...  \n",
       "1671                   False           False               False  \n",
       "1672                   False           False               False  \n",
       "1673                   False           False               False  \n",
       "1674                   False           False               False  \n",
       "1675                   False           False               False  \n",
       "\n",
       "[1676 rows x 12 columns]"
      ]
     },
     "execution_count": 50,
     "metadata": {},
     "output_type": "execute_result"
    }
   ],
   "source": [
    "# using function isna() to find any NaN values in the observed data\n",
    "df_main.isna()"
   ]
  },
  {
   "cell_type": "markdown",
   "id": "c51e811b-bbc7-4856-a45d-8f43c4db5aea",
   "metadata": {},
   "source": [
    "***\n",
    "#### *7. Describing the data*\n",
    "***"
   ]
  },
  {
   "cell_type": "code",
   "execution_count": 52,
   "id": "7e6f746c-8ca5-4199-8804-771bdbbc95e9",
   "metadata": {},
   "outputs": [
    {
     "data": {
      "text/html": [
       "<div>\n",
       "<style scoped>\n",
       "    .dataframe tbody tr th:only-of-type {\n",
       "        vertical-align: middle;\n",
       "    }\n",
       "\n",
       "    .dataframe tbody tr th {\n",
       "        vertical-align: top;\n",
       "    }\n",
       "\n",
       "    .dataframe thead th {\n",
       "        text-align: right;\n",
       "    }\n",
       "</style>\n",
       "<table border=\"1\" class=\"dataframe\">\n",
       "  <thead>\n",
       "    <tr style=\"text-align: right;\">\n",
       "      <th></th>\n",
       "      <th>LevelOfEducation</th>\n",
       "      <th>MonthlyIncome</th>\n",
       "      <th>NumCompaniesWorked</th>\n",
       "      <th>PerformanceRating</th>\n",
       "      <th>TotalWorkingYears</th>\n",
       "      <th>DaysofTrainingLastYear</th>\n",
       "      <th>YearsAtCompany</th>\n",
       "      <th>YearsInCurrentRole</th>\n",
       "    </tr>\n",
       "  </thead>\n",
       "  <tbody>\n",
       "    <tr>\n",
       "      <th>count</th>\n",
       "      <td>1676.000000</td>\n",
       "      <td>1676.000000</td>\n",
       "      <td>1676.000000</td>\n",
       "      <td>1676.000000</td>\n",
       "      <td>1676.000000</td>\n",
       "      <td>1676.000000</td>\n",
       "      <td>1676.000000</td>\n",
       "      <td>1676.000000</td>\n",
       "    </tr>\n",
       "    <tr>\n",
       "      <th>mean</th>\n",
       "      <td>2.907518</td>\n",
       "      <td>6516.512530</td>\n",
       "      <td>2.662291</td>\n",
       "      <td>3.150358</td>\n",
       "      <td>11.338902</td>\n",
       "      <td>2.805489</td>\n",
       "      <td>7.033413</td>\n",
       "      <td>4.264916</td>\n",
       "    </tr>\n",
       "    <tr>\n",
       "      <th>std</th>\n",
       "      <td>1.025835</td>\n",
       "      <td>4728.456618</td>\n",
       "      <td>2.477704</td>\n",
       "      <td>0.357529</td>\n",
       "      <td>7.834996</td>\n",
       "      <td>1.288431</td>\n",
       "      <td>6.098991</td>\n",
       "      <td>3.627456</td>\n",
       "    </tr>\n",
       "    <tr>\n",
       "      <th>min</th>\n",
       "      <td>1.000000</td>\n",
       "      <td>1009.000000</td>\n",
       "      <td>0.000000</td>\n",
       "      <td>3.000000</td>\n",
       "      <td>0.000000</td>\n",
       "      <td>0.000000</td>\n",
       "      <td>0.000000</td>\n",
       "      <td>0.000000</td>\n",
       "    </tr>\n",
       "    <tr>\n",
       "      <th>25%</th>\n",
       "      <td>2.000000</td>\n",
       "      <td>2928.250000</td>\n",
       "      <td>1.000000</td>\n",
       "      <td>3.000000</td>\n",
       "      <td>6.000000</td>\n",
       "      <td>2.000000</td>\n",
       "      <td>3.000000</td>\n",
       "      <td>2.000000</td>\n",
       "    </tr>\n",
       "    <tr>\n",
       "      <th>50%</th>\n",
       "      <td>3.000000</td>\n",
       "      <td>4899.000000</td>\n",
       "      <td>2.000000</td>\n",
       "      <td>3.000000</td>\n",
       "      <td>10.000000</td>\n",
       "      <td>3.000000</td>\n",
       "      <td>5.000000</td>\n",
       "      <td>3.000000</td>\n",
       "    </tr>\n",
       "    <tr>\n",
       "      <th>75%</th>\n",
       "      <td>4.000000</td>\n",
       "      <td>8380.250000</td>\n",
       "      <td>4.000000</td>\n",
       "      <td>3.000000</td>\n",
       "      <td>15.000000</td>\n",
       "      <td>3.000000</td>\n",
       "      <td>10.000000</td>\n",
       "      <td>7.000000</td>\n",
       "    </tr>\n",
       "    <tr>\n",
       "      <th>max</th>\n",
       "      <td>5.000000</td>\n",
       "      <td>19999.000000</td>\n",
       "      <td>9.000000</td>\n",
       "      <td>4.000000</td>\n",
       "      <td>40.000000</td>\n",
       "      <td>6.000000</td>\n",
       "      <td>40.000000</td>\n",
       "      <td>18.000000</td>\n",
       "    </tr>\n",
       "  </tbody>\n",
       "</table>\n",
       "</div>"
      ],
      "text/plain": [
       "       LevelOfEducation  MonthlyIncome  NumCompaniesWorked  PerformanceRating  \\\n",
       "count       1676.000000    1676.000000         1676.000000        1676.000000   \n",
       "mean           2.907518    6516.512530            2.662291           3.150358   \n",
       "std            1.025835    4728.456618            2.477704           0.357529   \n",
       "min            1.000000    1009.000000            0.000000           3.000000   \n",
       "25%            2.000000    2928.250000            1.000000           3.000000   \n",
       "50%            3.000000    4899.000000            2.000000           3.000000   \n",
       "75%            4.000000    8380.250000            4.000000           3.000000   \n",
       "max            5.000000   19999.000000            9.000000           4.000000   \n",
       "\n",
       "       TotalWorkingYears  DaysofTrainingLastYear  YearsAtCompany  \\\n",
       "count        1676.000000             1676.000000     1676.000000   \n",
       "mean           11.338902                2.805489        7.033413   \n",
       "std             7.834996                1.288431        6.098991   \n",
       "min             0.000000                0.000000        0.000000   \n",
       "25%             6.000000                2.000000        3.000000   \n",
       "50%            10.000000                3.000000        5.000000   \n",
       "75%            15.000000                3.000000       10.000000   \n",
       "max            40.000000                6.000000       40.000000   \n",
       "\n",
       "       YearsInCurrentRole  \n",
       "count         1676.000000  \n",
       "mean             4.264916  \n",
       "std              3.627456  \n",
       "min              0.000000  \n",
       "25%              2.000000  \n",
       "50%              3.000000  \n",
       "75%              7.000000  \n",
       "max             18.000000  "
      ]
     },
     "execution_count": 52,
     "metadata": {},
     "output_type": "execute_result"
    }
   ],
   "source": [
    "# print the statistics of the dataset\n",
    "df_main.describe()"
   ]
  },
  {
   "cell_type": "markdown",
   "id": "8fab406b-6e7b-4f67-8d19-e1e3743be587",
   "metadata": {},
   "source": [
    "##### This descriptive statistics table above gives insight into the distribution of the data which guides us into the next phase in data preprocessing: EDA..."
   ]
  },
  {
   "cell_type": "code",
   "execution_count": 54,
   "id": "c8ce7dfc-828a-4006-86f9-f76beb243cf9",
   "metadata": {},
   "outputs": [
    {
     "name": "stdout",
     "output_type": "stream",
     "text": [
      "❗ ❗ ❗\n"
     ]
    }
   ],
   "source": [
    "print(emoji.emojize(\"\\U00002757\"), emoji.emojize(\"\\U00002757\"), emoji.emojize(\"\\U00002757\"))"
   ]
  },
  {
   "cell_type": "markdown",
   "id": "85d697f0-eb98-47e9-908e-dfeaefa24eaa",
   "metadata": {},
   "source": [
    "- #### *'NumCompaniesWorked' min value = 0 contradicts an employee existing at this company*\n",
    "    - ##### Manipulate 'NumCompaniesWorked'== 0\n",
    "    - ##### result: 'NumCompaniesWorked'== 1"
   ]
  },
  {
   "cell_type": "code",
   "execution_count": 56,
   "id": "9f36e12c-d466-42f6-82b4-fa7432337eb0",
   "metadata": {},
   "outputs": [
    {
     "name": "stdout",
     "output_type": "stream",
     "text": [
      "❗ ❗ ❗\n"
     ]
    }
   ],
   "source": [
    "print(emoji.emojize(\"\\U00002757\"), emoji.emojize(\"\\U00002757\"), emoji.emojize(\"\\U00002757\"))"
   ]
  },
  {
   "cell_type": "code",
   "execution_count": 57,
   "id": "a990f077-7d85-4ee5-9e6b-76cd73cea042",
   "metadata": {},
   "outputs": [
    {
     "name": "stdout",
     "output_type": "stream",
     "text": [
      "NumCompaniesWorked\n",
      "1    824\n",
      "3    180\n",
      "2    173\n",
      "4    156\n",
      "7     84\n",
      "6     79\n",
      "5     70\n",
      "9     59\n",
      "8     51\n",
      "Name: count, dtype: int64\n"
     ]
    }
   ],
   "source": [
    "# Change all 0 values in 'NumCompaniesWorked' to 1\n",
    "df_main['NumCompaniesWorked'] = df_main['NumCompaniesWorked'].replace(0, 1)\n",
    "\n",
    "# check that the 0's have been replaced with 1's\n",
    "print(df_main['NumCompaniesWorked'].value_counts())"
   ]
  },
  {
   "cell_type": "markdown",
   "id": "46297e8a-7d3e-420d-b54f-8745324a9bb2",
   "metadata": {},
   "source": [
    "# DATA MANIPULATION COMPLETE..."
   ]
  },
  {
   "cell_type": "markdown",
   "id": "293f4de2-4eb0-45e2-add6-44582b423a27",
   "metadata": {},
   "source": [
    "***\n",
    "#### *8. Understanding the data*\n",
    "***"
   ]
  },
  {
   "cell_type": "code",
   "execution_count": 60,
   "id": "32865c47-ddea-454d-b50a-82872514307d",
   "metadata": {},
   "outputs": [
    {
     "data": {
      "text/plain": [
       "RangeIndex(start=0, stop=1676, step=1)"
      ]
     },
     "execution_count": 60,
     "metadata": {},
     "output_type": "execute_result"
    }
   ],
   "source": [
    "# checking the index\n",
    "df_main.index"
   ]
  },
  {
   "cell_type": "code",
   "execution_count": 61,
   "id": "0a8f2dc8-8186-452f-986d-618df97a8c7a",
   "metadata": {},
   "outputs": [
    {
     "name": "stdout",
     "output_type": "stream",
     "text": [
      "['Attrition', 'Department', 'LevelOfEducation', 'EducationField', 'JobRole', 'MonthlyIncome', 'NumCompaniesWorked', 'PerformanceRating', 'TotalWorkingYears', 'DaysofTrainingLastYear', 'YearsAtCompany', 'YearsInCurrentRole']\n"
     ]
    },
    {
     "data": {
      "text/plain": [
       "(1676, 12)"
      ]
     },
     "execution_count": 61,
     "metadata": {},
     "output_type": "execute_result"
    }
   ],
   "source": [
    "# print the column names\n",
    "print(df_main.columns.tolist())\n",
    "\n",
    "# print the shape (number of rows, number of columns) of the df_main\n",
    "df_main.shape"
   ]
  },
  {
   "cell_type": "markdown",
   "id": "b9b382a0-7029-494d-b379-87e96ecac383",
   "metadata": {},
   "source": [
    "# DATA PROFILING COMPLETE..."
   ]
  }
 ],
 "metadata": {
  "kernelspec": {
   "display_name": "Python 3 (ipykernel)",
   "language": "python",
   "name": "python3"
  },
  "language_info": {
   "codemirror_mode": {
    "name": "ipython",
    "version": 3
   },
   "file_extension": ".py",
   "mimetype": "text/x-python",
   "name": "python",
   "nbconvert_exporter": "python",
   "pygments_lexer": "ipython3",
   "version": "3.11.7"
  }
 },
 "nbformat": 4,
 "nbformat_minor": 5
}
