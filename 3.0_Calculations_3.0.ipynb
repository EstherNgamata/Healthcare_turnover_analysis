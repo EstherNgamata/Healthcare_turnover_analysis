{
 "cells": [
  {
   "cell_type": "markdown",
   "id": "025334d2-8051-40a1-99c7-d993746d4dcb",
   "metadata": {},
   "source": [
    "## Calculations"
   ]
  },
  {
   "cell_type": "markdown",
   "id": "2aff0c47-1cea-4dd0-8543-3023571decc0",
   "metadata": {},
   "source": [
    "***"
   ]
  },
  {
   "cell_type": "markdown",
   "id": "aa60a5ea-0900-431d-8b5a-f1dd577d7a35",
   "metadata": {},
   "source": [
    "##### All of the visualisations of graphical representations for Mini Project 1 will be recorded here"
   ]
  },
  {
   "cell_type": "markdown",
   "id": "417ea4df-7d53-41c8-80ba-2837c01226c9",
   "metadata": {},
   "source": [
    "***"
   ]
  },
  {
   "cell_type": "markdown",
   "id": "6b78efef-7d40-48f0-b69a-942d14889ecd",
   "metadata": {},
   "source": [
    "## -- *From Data Profiling notebook* --"
   ]
  },
  {
   "cell_type": "code",
   "execution_count": 6,
   "id": "35b321b8-4add-466e-9bb5-b434f211becd",
   "metadata": {},
   "outputs": [],
   "source": [
    "import numpy as np\n",
    "import pandas as pd\n",
    "import seaborn as sns\n",
    "import matplotlib.pyplot as plt\n",
    "from math import sqrt\n",
    "import scipy.stats as stats"
   ]
  },
  {
   "cell_type": "code",
   "execution_count": 7,
   "id": "3220f06d-acdc-4b46-abd0-d6789e082db9",
   "metadata": {},
   "outputs": [
    {
     "name": "stdout",
     "output_type": "stream",
     "text": [
      "Numpy:  1.26.4\n",
      "Pandas:  2.1.4\n"
     ]
    }
   ],
   "source": [
    "print('Numpy: ', np.__version__)\n",
    "print('Pandas: ', pd.__version__)"
   ]
  },
  {
   "cell_type": "markdown",
   "id": "19831c47-b631-4aaa-a089-fb77994bf525",
   "metadata": {},
   "source": [
    "### 1. Pearson Correlation Coefficient"
   ]
  },
  {
   "cell_type": "code",
   "execution_count": 9,
   "id": "e0c5eb10-4c91-460d-b99b-3a13003d36af",
   "metadata": {},
   "outputs": [
    {
     "name": "stdout",
     "output_type": "stream",
     "text": [
      "-0.5728597742824278\n"
     ]
    }
   ],
   "source": [
    "# r = correlation coefficient\n",
    "r = -0.014\n",
    "# alpha = significance level\n",
    "alpha = 0.05\n",
    "# n = sample size i.e. the number of nurses from life sciences\n",
    "n = 1676\n",
    "\n",
    "# calculate t statistic\n",
    "t = (r*(sqrt(n-2)))/(sqrt(1-(r*r)))\n",
    "print(t)"
   ]
  },
  {
   "cell_type": "code",
   "execution_count": 10,
   "id": "7edf7eb4-4017-4f95-a661-ae026aa3e0e0",
   "metadata": {},
   "outputs": [
    {
     "name": "stdout",
     "output_type": "stream",
     "text": [
      "p-value: 0.5668165774498588\n"
     ]
    }
   ],
   "source": [
    "# Given values\n",
    "t\n",
    "df = 1674  # Degrees of freedom\n",
    "\n",
    "# Calculate the p-value for a two-tailed test\n",
    "# cumulative density function for a value t\n",
    "p_value = 2 * stats.t.cdf(t, df)\n",
    "\n",
    "print(\"p-value:\", p_value)"
   ]
  },
  {
   "cell_type": "code",
   "execution_count": null,
   "id": "2eb19d53-084a-4b96-bc9f-4812dbb73ce1",
   "metadata": {},
   "outputs": [],
   "source": []
  }
 ],
 "metadata": {
  "kernelspec": {
   "display_name": "Python 3 (ipykernel)",
   "language": "python",
   "name": "python3"
  },
  "language_info": {
   "codemirror_mode": {
    "name": "ipython",
    "version": 3
   },
   "file_extension": ".py",
   "mimetype": "text/x-python",
   "name": "python",
   "nbconvert_exporter": "python",
   "pygments_lexer": "ipython3",
   "version": "3.11.7"
  }
 },
 "nbformat": 4,
 "nbformat_minor": 5
}
